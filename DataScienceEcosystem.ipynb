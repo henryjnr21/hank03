{
 "cells": [
  {
   "cell_type": "markdown",
   "id": "ca9904b1-3068-46ab-a4d2-00ec67998794",
   "metadata": {},
   "source": [
    "# Data Science Tools and Ecosystem"
   ]
  },
  {
   "cell_type": "markdown",
   "id": "82afdb97-c01f-4862-b7c5-7505ecd96a98",
   "metadata": {},
   "source": [
    "This notebook summarizes the tools and ecosystem that comprise Data Science."
   ]
  },
  {
   "cell_type": "markdown",
   "id": "c52c84dc-8640-426e-a264-90f54ae49d57",
   "metadata": {},
   "source": [
    "**Objectives:**\n",
    "* List popular Data Science languages\n",
    "* List commonly used Data Science libraries\n",
    "* Create a markdown cell with a table of Data Science tools\n",
    "* Perform arithmetic operations of integers"
   ]
  },
  {
   "cell_type": "markdown",
   "id": "ce015e81-1809-4edb-9416-549ae6b16c15",
   "metadata": {},
   "source": [
    "Some of the popular languages that Data Scientists use are:\n",
    "1. Python\n",
    "2. R\n",
    "3. Julia\n",
    "4. C++"
   ]
  },
  {
   "cell_type": "markdown",
   "id": "34791613-7774-454a-8a83-dd2a3793a428",
   "metadata": {},
   "source": [
    "Some of the commonly used libraries used by Data Scientists include:\n",
    "1. Numpy\n",
    "2. Matplotlib\n",
    "3. Seaborn\n",
    "4. TensorFlow\n",
    "5. Pandas\n",
    "6. Scikit-learn"
   ]
  },
  {
   "cell_type": "markdown",
   "id": "c3c6dbb0-b8f9-49ae-a0ac-4aba957ac3f0",
   "metadata": {},
   "source": [
    "| Data Science Tools |\n",
    "|-------|\n",
    "|Google Colab|\n",
    "|Jupyter Notebook|\n",
    "|RStudio|"
   ]
  },
  {
   "cell_type": "markdown",
   "id": "efc81016-2099-4a7c-b99a-37a8fd6b8138",
   "metadata": {},
   "source": [
    "### Below are a few examples of evaluating arithmetic expressions in Python"
   ]
  },
  {
   "cell_type": "code",
   "execution_count": 1,
   "id": "0b171940-768c-4282-8e55-c756cf2c053f",
   "metadata": {},
   "outputs": [
    {
     "data": {
      "text/plain": [
       "17"
      ]
     },
     "execution_count": 1,
     "metadata": {},
     "output_type": "execute_result"
    }
   ],
   "source": [
    "# This is a simple arithmetic code to multiply and add integers\n",
    "(3*4) + 5"
   ]
  },
  {
   "cell_type": "code",
   "execution_count": 3,
   "id": "5a978b3c-13b1-42e0-a51f-800e8a5f4aee",
   "metadata": {},
   "outputs": [
    {
     "name": "stdout",
     "output_type": "stream",
     "text": [
      "3.3333333333333335\n"
     ]
    }
   ],
   "source": [
    "# This line of code will convert 200 minutes to hours\n",
    "a = 200  #minutes\n",
    "b = 60 \n",
    "c = a / b  #conversion to hours\n",
    "print(c)"
   ]
  },
  {
   "cell_type": "markdown",
   "id": "82654950-16fc-42c7-b0b1-f43eecb4ee45",
   "metadata": {},
   "source": [
    "## Author\n",
    "Henry Sakyi- Obiri Jnr"
   ]
  }
 ],
 "metadata": {
  "kernelspec": {
   "display_name": "Python 3 (ipykernel)",
   "language": "python",
   "name": "python3"
  },
  "language_info": {
   "codemirror_mode": {
    "name": "ipython",
    "version": 3
   },
   "file_extension": ".py",
   "mimetype": "text/x-python",
   "name": "python",
   "nbconvert_exporter": "python",
   "pygments_lexer": "ipython3",
   "version": "3.12.4"
  }
 },
 "nbformat": 4,
 "nbformat_minor": 5
}
